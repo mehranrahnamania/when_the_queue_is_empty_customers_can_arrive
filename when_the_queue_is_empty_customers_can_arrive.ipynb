{
  "nbformat": 4,
  "nbformat_minor": 0,
  "metadata": {
    "colab": {
      "private_outputs": true,
      "provenance": []
    },
    "kernelspec": {
      "name": "python3",
      "display_name": "Python 3"
    },
    "language_info": {
      "name": "python"
    }
  },
  "cells": [
    {
      "cell_type": "code",
      "execution_count": null,
      "metadata": {
        "id": "E0zde4c_YNKE"
      },
      "outputs": [],
      "source": [
        "!pip install simpy"
      ]
    },
    {
      "cell_type": "code",
      "source": [
        "import simpy\n",
        "import random\n",
        "\n",
        "class MM1(object):\n",
        "    def __init__(self, env, lam_1, mu_1):\n",
        "        self.env = env\n",
        "        self.server_1 = simpy.Resource(env, 1)\n",
        "        self.lam_1 = lam_1\n",
        "        self.mu_1 = mu_1\n",
        "        self.data = {'arrival 1':[], 'departure 1':[], 'arrival 2':[], 'departure 2':[]}\n",
        "\n",
        "\n",
        "    def queue_1(self):\n",
        "        with self.server_1.request() as request:\n",
        "            yield request\n",
        "            yield self.env.timeout(random.expovariate(self.mu_1))\n",
        "        self.data['departure 1'].append(self.env.now)\n",
        "\n",
        "\n",
        "    def arrival_1(self):\n",
        "        for _ in range(10**6):\n",
        "            yield self.env.timeout(random.expovariate(self.lam_1))\n",
        "            if self.server_1.count == 0:\n",
        "                self.data['arrival 1'].append(self.env.now)\n",
        "                self.env.process(self.queue_1())"
      ],
      "metadata": {
        "id": "BY43veWv51UI"
      },
      "execution_count": null,
      "outputs": []
    },
    {
      "cell_type": "code",
      "source": [
        "env = simpy.Environment()\n",
        "\n",
        "net = MM1(env, 1, 2)\n",
        "env.process(net.arrival_1())\n",
        "env.run()\n",
        "l = 1*10**5\n",
        "length = len(net.data['departure 1'][l:-l])\n",
        "w1 = (sum(net.data['departure 1'][l:-l]) - sum(net.data['arrival 1'][l:-l])) / length\n",
        "print(w1)"
      ],
      "metadata": {
        "id": "6C4mEILScjVd"
      },
      "execution_count": null,
      "outputs": []
    }
  ]
}